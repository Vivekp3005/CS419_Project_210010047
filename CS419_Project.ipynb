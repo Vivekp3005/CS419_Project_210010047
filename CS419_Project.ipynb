{
  "cells": [
    {
      "cell_type": "code",
      "execution_count": 8,
      "id": "c5a23523-e10a-441f-a08c-e6687f51c0ea",
      "metadata": {
        "id": "c5a23523-e10a-441f-a08c-e6687f51c0ea"
      },
      "outputs": [],
      "source": [
        "import numpy as np\n",
        "import matplotlib.pyplot as plt\n",
        "import pandas as pd"
      ]
    },
    {
      "cell_type": "code",
      "execution_count": 9,
      "id": "f702942b",
      "metadata": {
        "id": "f702942b"
      },
      "outputs": [],
      "source": [
        "import yfinance as yf\n",
        "import time"
      ]
    },
    {
      "cell_type": "code",
      "execution_count": 10,
      "id": "944cbb37",
      "metadata": {
        "id": "944cbb37"
      },
      "outputs": [],
      "source": [
        "from sklearn.linear_model import SGDRegressor\n",
        "from sklearn.preprocessing import StandardScaler"
      ]
    },
    {
      "cell_type": "code",
      "execution_count": 11,
      "id": "89e58c05",
      "metadata": {
        "id": "89e58c05"
      },
      "outputs": [],
      "source": [
        "model = SGDRegressor(learning_rate='constant', eta0=0.01)\n",
        "scaler = StandardScaler()"
      ]
    },
    {
      "cell_type": "code",
      "execution_count": 12,
      "id": "88c3b15d",
      "metadata": {
        "id": "88c3b15d"
      },
      "outputs": [],
      "source": [
        "def fetch_stock_data(ticker: str, interval: str, iterations: int):\n",
        "    i=0\n",
        "\n",
        "    while True:\n",
        "        # Fetch latest stock data\n",
        "        stock_data = yf.download(ticker, period=\"1d\", interval=interval)\n",
        "\n",
        "        # Process the last data point and create a copy\n",
        "        last_last_last_data = stock_data.tail(3).head(1).copy()\n",
        "        last_last_data = stock_data.tail(2).head(1).copy()\n",
        "        last_data = stock_data.tail(1).copy()\n",
        "        #print(last_data)\n",
        "\n",
        "        if not last_last_last_data.empty or not last_last_data.empty:\n",
        "            # Get last last values\n",
        "            close_last_last_price = last_last_data[\"Close\"].iloc[-1]\n",
        "            volume_last_last_value = last_last_data[\"Volume\"].iloc[-1]\n",
        "\n",
        "            #Get last last last values\n",
        "            close_last_last_last_price = last_last_last_data[\"Close\"].iloc[-1]\n",
        "            volume_last_last_last_value = last_last_last_data[\"Volume\"].iloc[-1]\n",
        "\n",
        "            price_last_last_change = (close_last_last_price - close_last_last_last_price)\n",
        "            volume_last_last_change = (volume_last_last_value - volume_last_last_last_value) / volume_last_last_value\n",
        "\n",
        "            # Standardize the features\n",
        "            features_scaled = scaler.fit_transform(volume_last_last_change.reshape(-1,1))\n",
        "\n",
        "            last_close_volume = last_data[\"Volume\"].iloc[-1]\n",
        "            volume_change_to_be_predicted = (last_close_volume - volume_last_last_value) / volume_last_last_value\n",
        "            feature_to_be_predicted = scaler.fit_transform(volume_change_to_be_predicted.reshape(-1,1))\n",
        "            # Train or predict with the model\n",
        "            y = price_last_last_change\n",
        "            model.partial_fit(features_scaled, [y])\n",
        "            # Predict next value and print\n",
        "            pred = model.predict(feature_to_be_predicted.reshape(1,-1))\n",
        "            last_close = last_data[\"Close\"].iloc[-1]\n",
        "            print(\"\")\n",
        "            print(f\"true: {last_close}\")\n",
        "            print(f\"Predicted: {pred[0]+close_last_last_price}\")\n",
        "\n",
        "        i += 1\n",
        "        if i>=iterations:\n",
        "            break\n",
        "\n",
        "        # Wait before fetching the next data point (depending on the interval)\n",
        "        if interval == \"1m\":\n",
        "            time.sleep(60)\n",
        "        elif interval == \"5m\":\n",
        "            time.sleep(300)\n",
        "        # Add more cases as needed for other intervals\n"
      ]
    },
    {
      "cell_type": "code",
      "execution_count": 13,
      "id": "725b1ceb",
      "metadata": {
        "colab": {
          "base_uri": "https://localhost:8080/"
        },
        "id": "725b1ceb",
        "outputId": "44ce0ab9-5c94-4d58-d2ba-2eda91081da5"
      },
      "outputs": [
        {
          "name": "stderr",
          "output_type": "stream",
          "text": [
            "[*********************100%%**********************]  1 of 1 completed\n"
          ]
        },
        {
          "name": "stdout",
          "output_type": "stream",
          "text": [
            "\n",
            "true: 186.78500366210938\n",
            "Predicted: 186.7948487854004\n"
          ]
        },
        {
          "name": "stderr",
          "output_type": "stream",
          "text": [
            "[*********************100%%**********************]  1 of 1 completed\n"
          ]
        },
        {
          "name": "stdout",
          "output_type": "stream",
          "text": [
            "\n",
            "true: 186.80999755859375\n",
            "Predicted: 186.769209715271\n"
          ]
        },
        {
          "name": "stderr",
          "output_type": "stream",
          "text": [
            "[*********************100%%**********************]  1 of 1 completed\n"
          ]
        },
        {
          "name": "stdout",
          "output_type": "stream",
          "text": [
            "\n",
            "true: 186.8000030517578\n",
            "Predicted: 186.7793121127472\n"
          ]
        },
        {
          "name": "stderr",
          "output_type": "stream",
          "text": [
            "[*********************100%%**********************]  1 of 1 completed\n"
          ]
        },
        {
          "name": "stdout",
          "output_type": "stream",
          "text": [
            "\n",
            "true: 186.7899932861328\n",
            "Predicted: 186.79952329459823\n"
          ]
        },
        {
          "name": "stderr",
          "output_type": "stream",
          "text": [
            "[*********************100%%**********************]  1 of 1 completed\n"
          ]
        },
        {
          "name": "stdout",
          "output_type": "stream",
          "text": [
            "\n",
            "true: 186.74000549316406\n",
            "Predicted: 186.7751781165839\n"
          ]
        },
        {
          "name": "stderr",
          "output_type": "stream",
          "text": [
            "[*********************100%%**********************]  1 of 1 completed\n"
          ]
        },
        {
          "name": "stdout",
          "output_type": "stream",
          "text": [
            "\n",
            "true: 186.72000122070312\n",
            "Predicted: 186.73428348263485\n"
          ]
        },
        {
          "name": "stderr",
          "output_type": "stream",
          "text": [
            "[*********************100%%**********************]  1 of 1 completed\n"
          ]
        },
        {
          "name": "stdout",
          "output_type": "stream",
          "text": [
            "\n",
            "true: 186.75\n",
            "Predicted: 186.72883899375577\n"
          ]
        },
        {
          "name": "stderr",
          "output_type": "stream",
          "text": [
            "[*********************100%%**********************]  1 of 1 completed\n"
          ]
        },
        {
          "name": "stdout",
          "output_type": "stream",
          "text": [
            "\n",
            "true: 186.80999755859375\n",
            "Predicted: 186.73390549273424\n"
          ]
        },
        {
          "name": "stderr",
          "output_type": "stream",
          "text": [
            "[*********************100%%**********************]  1 of 1 completed\n"
          ]
        },
        {
          "name": "stdout",
          "output_type": "stream",
          "text": [
            "\n",
            "true: 186.7899932861328\n",
            "Predicted: 186.81977322491625\n"
          ]
        },
        {
          "name": "stderr",
          "output_type": "stream",
          "text": [
            "[*********************100%%**********************]  1 of 1 completed"
          ]
        },
        {
          "name": "stdout",
          "output_type": "stream",
          "text": [
            "\n",
            "true: 186.78399658203125\n",
            "Predicted: 186.79684343700305\n"
          ]
        },
        {
          "name": "stderr",
          "output_type": "stream",
          "text": [
            "\n"
          ]
        }
      ],
      "source": [
        "# Example usage\n",
        "if __name__ == \"__main__\":\n",
        "    ticker_symbol = \"AMZN\"  # Example ticker symbol for Apple Inc.\n",
        "    time_interval = \"1m\"  # Fetch data at 1-minute intervals\n",
        "    stream_iterations = 10# Stream data for 10 minutes\n",
        "\n",
        "    fetch_stock_data(ticker_symbol, time_interval, stream_iterations)"
      ]
    },
    {
      "cell_type": "code",
      "execution_count": null,
      "id": "d7c95c71",
      "metadata": {
        "id": "d7c95c71"
      },
      "outputs": [],
      "source": []
    }
  ],
  "metadata": {
    "colab": {
      "provenance": []
    },
    "kernelspec": {
      "display_name": "Python 3 (ipykernel)",
      "language": "python",
      "name": "python3"
    },
    "language_info": {
      "codemirror_mode": {
        "name": "ipython",
        "version": 3
      },
      "file_extension": ".py",
      "mimetype": "text/x-python",
      "name": "python",
      "nbconvert_exporter": "python",
      "pygments_lexer": "ipython3",
      "version": "3.10.13"
    }
  },
  "nbformat": 4,
  "nbformat_minor": 5
}
